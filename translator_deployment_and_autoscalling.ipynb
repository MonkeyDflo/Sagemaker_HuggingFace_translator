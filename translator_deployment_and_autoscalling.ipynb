{
  "nbformat": 4,
  "nbformat_minor": 0,
  "metadata": {
    "instance_type": "ml.t3.medium",
    "kernelspec": {
      "display_name": "Python 3 (Data Science)",
      "language": "python",
      "name": "python3__SAGEMAKER_INTERNAL__arn:aws:sagemaker:eu-west-3:615547856133:image/datascience-1.0"
    },
    "language_info": {
      "codemirror_mode": {
        "name": "ipython",
        "version": 3
      },
      "file_extension": ".py",
      "mimetype": "text/x-python",
      "name": "python",
      "nbconvert_exporter": "python",
      "pygments_lexer": "ipython3",
      "version": "3.7.10"
    },
    "colab": {
      "name": "translator_deployment_and_autoscalling.ipynb",
      "provenance": [],
      "collapsed_sections": []
    }
  },
  "cells": [
    {
      "cell_type": "markdown",
      "metadata": {
        "id": "FRHV-ZC52oFM"
      },
      "source": [
        "## 1. Deploy endpoint\n",
        "\n",
        "https://sagemaker.readthedocs.io/en/stable/api/inference/model.html"
      ]
    },
    {
      "cell_type": "code",
      "metadata": {
        "id": "K-_idJzF2oFR"
      },
      "source": [
        "import boto3\n",
        "import sagemaker \n",
        "\n",
        "role = sagemaker.get_execution_role()\n",
        "client = boto3.client(\"sts\")\n",
        "account = client.get_caller_identity()[\"Account\"]\n",
        "print(account)\n",
        "\n",
        "my_session = boto3.session.Session()\n",
        "region = my_session.region_name\n",
        "repo = \"translator-en-fr\"\n",
        "version = \"latest\"\n",
        "image_uri = \"{}.dkr.ecr.{}.amazonaws.com/{}:{}\".format(account, region, repo, version)\n",
        "instance_type = \"ml.m5.large\"\n",
        "print(instance_type)\n",
        "print(image_uri)"
      ],
      "execution_count": null,
      "outputs": []
    },
    {
      "cell_type": "markdown",
      "metadata": {
        "id": "_umh610e4SQd"
      },
      "source": [
        "Here we juste create the endpoint thanks to deploy method of Model object.  \n",
        "We need to specifiy a non-burstable instance as burstable instances can handle automatic scaling policy. "
      ]
    },
    {
      "cell_type": "code",
      "metadata": {
        "id": "-nOvQ6i72oFU"
      },
      "source": [
        "my_model = sagemaker.model.Model(image_uri = image_uri, \n",
        "                                 model_data=None, \n",
        "                                 role=role, \n",
        "                                 predictor_cls=None, \n",
        "                                 env=None, \n",
        "                                 name=None, \n",
        "                                 vpc_config=None, \n",
        "                                 sagemaker_session=None, \n",
        "                                 enable_network_isolation=False, \n",
        "                                 model_kms_key=None, \n",
        "                                 image_config=None)\n",
        "\n",
        "my_model.deploy(initial_instance_count = 1, \n",
        "                instance_type = 'ml.m5.large', \n",
        "                serializer=None, \n",
        "                deserializer=None, \n",
        "                accelerator_type=None, \n",
        "                endpoint_name='translator-en-fr', \n",
        "                tags=None, \n",
        "                kms_key=None, \n",
        "                wait=True, \n",
        "                data_capture_config=None)"
      ],
      "execution_count": null,
      "outputs": []
    },
    {
      "cell_type": "markdown",
      "metadata": {
        "id": "eAyAaPKPDfUd"
      },
      "source": [
        "Send a request to targeted endpoint."
      ]
    },
    {
      "cell_type": "code",
      "metadata": {
        "jupyter": {
          "outputs_hidden": true
        },
        "id": "0wFeVlfQ2oFc"
      },
      "source": [
        "import json\n",
        "\n",
        "client = boto3.client('runtime.sagemaker')\n",
        "\n",
        "\n",
        "response = client.invoke_endpoint(\n",
        "    EndpointName='translator-en-fr',\n",
        "    Body=\"{\\\"query\\\":\\\"hello world\\\"}\",\n",
        "    ContentType='application/json',\n",
        "    Accept='Accept',\n",
        ")\n",
        "\n",
        "result = json.loads(response[\"Body\"].read().decode())\n",
        "display(result)\n"
      ],
      "execution_count": null,
      "outputs": []
    },
    {
      "cell_type": "markdown",
      "metadata": {
        "id": "UetUaEun4jwO"
      },
      "source": [
        "From here we can run a first load test to see endpoint behaviour. "
      ]
    },
    {
      "cell_type": "markdown",
      "metadata": {
        "id": "FO9hWq222oFW"
      },
      "source": [
        "## 2. Autoscalling"
      ]
    },
    {
      "cell_type": "code",
      "metadata": {
        "id": "0lG_rJIZ2oFW",
        "outputId": "030896ae-a433-4adf-dbc9-87c8cca73236"
      },
      "source": [
        "import pprint\n",
        "\n",
        "pp = pprint.PrettyPrinter(indent=4, depth=4)\n",
        "role = sagemaker.get_execution_role()\n",
        "sagemaker_client = boto3.Session().client(service_name='sagemaker')\n",
        "endpoint_name = 'translator-en-fr'\n",
        "response = sagemaker_client.describe_endpoint(EndpointName=endpoint_name)\n",
        "pp.pprint(response)\n",
        "\n",
        "#Let us define a client to play with autoscaling options\n",
        "client = boto3.client('application-autoscaling') # Common class representing Application Auto Scaling for SageMaker amongst other services"
      ],
      "execution_count": null,
      "outputs": [
        {
          "output_type": "stream",
          "text": [
            "{   'CreationTime': datetime.datetime(2021, 7, 15, 8, 3, 31, 221000, tzinfo=tzlocal()),\n",
            "    'EndpointArn': 'arn:aws:sagemaker:eu-west-3:802765560650:endpoint/embeddingendpoint-test',\n",
            "    'EndpointConfigName': 'EmbeddingEndpoint-test',\n",
            "    'EndpointName': 'EmbeddingEndpoint-test',\n",
            "    'EndpointStatus': 'InService',\n",
            "    'LastModifiedTime': datetime.datetime(2021, 7, 19, 11, 35, 36, 118000, tzinfo=tzlocal()),\n",
            "    'ProductionVariants': [   {   'CurrentInstanceCount': 2,\n",
            "                                  'CurrentWeight': 1.0,\n",
            "                                  'DeployedImages': [{...}],\n",
            "                                  'DesiredInstanceCount': 2,\n",
            "                                  'DesiredWeight': 1.0,\n",
            "                                  'VariantName': 'AllTraffic'}],\n",
            "    'ResponseMetadata': {   'HTTPHeaders': {   'content-length': '716',\n",
            "                                               'content-type': 'application/x-amz-json-1.1',\n",
            "                                               'date': 'Mon, 19 Jul 2021 '\n",
            "                                                       '12:12:48 GMT',\n",
            "                                               'x-amzn-requestid': 'c3f1ca39-b7be-4bb3-ba6e-6fa3052a6b44'},\n",
            "                            'HTTPStatusCode': 200,\n",
            "                            'RequestId': 'c3f1ca39-b7be-4bb3-ba6e-6fa3052a6b44',\n",
            "                            'RetryAttempts': 0}}\n"
          ],
          "name": "stdout"
        }
      ]
    },
    {
      "cell_type": "markdown",
      "metadata": {
        "id": "8AGe4vWq4MGd"
      },
      "source": [
        "Put automatic scalling policy "
      ]
    },
    {
      "cell_type": "code",
      "metadata": {
        "id": "sTU_qqW64K1e"
      },
      "source": [
        "resource_id='endpoint/' + endpoint_name + '/variant/' + 'AllTraffic' # This is the format in which application autoscaling references the endpoint\n",
        "\n",
        "response = client.register_scalable_target(\n",
        "    ServiceNamespace='sagemaker',\n",
        "    ResourceId=resource_id,\n",
        "    ScalableDimension='sagemaker:variant:DesiredInstanceCount',\n",
        "    MinCapacity=1,\n",
        "    MaxCapacity=2\n",
        ")\n"
      ],
      "execution_count": null,
      "outputs": []
    },
    {
      "cell_type": "markdown",
      "metadata": {
        "id": "e2P5zkZi5Awn"
      },
      "source": [
        "Example 1 extract from : https://aws.amazon.com/fr/blogs/machine-learning/configuring-autoscaling-inference-endpoints-in-amazon-sagemaker/"
      ]
    },
    {
      "cell_type": "markdown",
      "metadata": {
        "id": "ktHrRsiDEE_N"
      },
      "source": [
        "We fix our limit RPS to be 200 request per second.    \n",
        "Then we apply the simple formula here to provide target value : https://docs.aws.amazon.com/sagemaker/latest/dg/endpoint-scaling-loadtest.html\n",
        "\n",
        "TargetValue = (RPS * 0.5) * 60"
      ]
    },
    {
      "cell_type": "code",
      "metadata": {
        "id": "3rB8BNaj2oFY"
      },
      "source": [
        "#Example 1 - SageMakerVariantInvocationsPerInstance Metric\n",
        "response = client.put_scaling_policy(\n",
        "    PolicyName='Invocations-ScalingPolicy',\n",
        "    ServiceNamespace='sagemaker', # The namespace of the AWS service that provides the resource. \n",
        "    ResourceId=resource_id, # Endpoint name \n",
        "    ScalableDimension='sagemaker:variant:DesiredInstanceCount', # SageMaker supports only Instance Count\n",
        "    PolicyType='TargetTrackingScaling', # 'StepScaling'|'TargetTrackingScaling'\n",
        "    TargetTrackingScalingPolicyConfiguration={\n",
        "        'TargetValue': 6000.0, # The target value for the metric. - here the metric is - SageMakerVariantInvocationsPerInstance\n",
        "        'PredefinedMetricSpecification': {\n",
        "            'PredefinedMetricType': 'SageMakerVariantInvocationsPerInstance', # is the average number of times per minute that each instance for a variant is invoked. \n",
        "        },\n",
        "        'ScaleInCooldown': 600, # The cooldown period helps you prevent your Auto Scaling group from launching or terminating \n",
        "                                # additional instances before the effects of previous activities are visible. \n",
        "                                # You can configure the length of time based on your instance startup time or other application needs.\n",
        "                                # ScaleInCooldown - The amount of time, in seconds, after a scale in activity completes before another scale in activity can start. \n",
        "        'ScaleOutCooldown': 300 # ScaleOutCooldown - The amount of time, in seconds, after a scale out activity completes before another scale out activity can start.\n",
        "        \n",
        "        # 'DisableScaleIn': True|False - ndicates whether scale in by the target tracking policy is disabled. \n",
        "                            # If the value is true , scale in is disabled and the target tracking policy won't remove capacity from the scalable resource.\n",
        "    }\n",
        ")"
      ],
      "execution_count": null,
      "outputs": []
    },
    {
      "cell_type": "markdown",
      "metadata": {
        "id": "5nkYqLz12oFe"
      },
      "source": [
        "# 3. Disable endpoints"
      ]
    },
    {
      "cell_type": "markdown",
      "metadata": {
        "id": "WdaEPxokEYtl"
      },
      "source": [
        "To delete endpoint : "
      ]
    },
    {
      "cell_type": "code",
      "metadata": {
        "id": "20ETIG622oFe",
        "outputId": "bdb7a70c-c8be-4dfb-c27f-ab24d35abfbe"
      },
      "source": [
        "boto3.client(\"sagemaker\").delete_endpoint(EndpointName='translator-en-fr')"
      ],
      "execution_count": null,
      "outputs": [
        {
          "output_type": "execute_result",
          "data": {
            "text/plain": [
              "{'ResponseMetadata': {'RequestId': 'a859ab97-7e9d-40fa-9b22-0651c2d5c415',\n",
              "  'HTTPStatusCode': 200,\n",
              "  'HTTPHeaders': {'x-amzn-requestid': 'a859ab97-7e9d-40fa-9b22-0651c2d5c415',\n",
              "   'content-type': 'application/x-amz-json-1.1',\n",
              "   'content-length': '0',\n",
              "   'date': 'Fri, 02 Jul 2021 13:12:56 GMT'},\n",
              "  'RetryAttempts': 0}}"
            ]
          },
          "metadata": {
            "tags": []
          },
          "execution_count": 67
        }
      ]
    }
  ]
}
